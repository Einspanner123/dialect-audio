{
 "cells": [
  {
   "cell_type": "code",
   "execution_count": 2,
   "metadata": {},
   "outputs": [],
   "source": [
    "import wave\n",
    "import numpy as np\n",
    "import matplotlib.pyplot as plt"
   ]
  },
  {
   "cell_type": "code",
   "execution_count": 3,
   "metadata": {},
   "outputs": [
    {
     "name": "stderr",
     "output_type": "stream",
     "text": [
      "d:\\Anaconda3\\envs\\dialect\\lib\\site-packages\\ipykernel_launcher.py:10: DeprecationWarning: The binary mode of fromstring is deprecated, as it behaves surprisingly on unicode inputs. Use frombuffer instead\n",
      "  # Remove the CWD from sys.path while we load stuff.\n"
     ]
    },
    {
     "ename": "ValueError",
     "evalue": "x and y must have same first dimension, but have shapes (338048,) and (2641,)",
     "output_type": "error",
     "traceback": [
      "\u001b[1;31m---------------------------------------------------------------------------\u001b[0m",
      "\u001b[1;31mValueError\u001b[0m                                Traceback (most recent call last)",
      "\u001b[1;32m~\\AppData\\Local\\Temp\\ipykernel_4252\\3734514057.py\u001b[0m in \u001b[0;36m<module>\u001b[1;34m\u001b[0m\n\u001b[0;32m     84\u001b[0m \u001b[0mplt\u001b[0m\u001b[1;33m.\u001b[0m\u001b[0mylabel\u001b[0m\u001b[1;33m(\u001b[0m\u001b[1;34m\"Amplitude\"\u001b[0m\u001b[1;33m)\u001b[0m\u001b[1;33m\u001b[0m\u001b[0m\n\u001b[0;32m     85\u001b[0m \u001b[0mplt\u001b[0m\u001b[1;33m.\u001b[0m\u001b[0msubplot\u001b[0m\u001b[1;33m(\u001b[0m\u001b[1;36m212\u001b[0m\u001b[1;33m)\u001b[0m\u001b[1;33m\u001b[0m\u001b[0m\n\u001b[1;32m---> 86\u001b[1;33m \u001b[0mplt\u001b[0m\u001b[1;33m.\u001b[0m\u001b[0mplot\u001b[0m\u001b[1;33m(\u001b[0m\u001b[0mtime2\u001b[0m\u001b[1;33m,\u001b[0m \u001b[0menergy\u001b[0m\u001b[1;33m,\u001b[0m \u001b[1;34m\"blue\"\u001b[0m\u001b[1;33m)\u001b[0m\u001b[1;33m\u001b[0m\u001b[0m\n\u001b[0m\u001b[0;32m     87\u001b[0m \u001b[0mplt\u001b[0m\u001b[1;33m.\u001b[0m\u001b[0mylabel\u001b[0m\u001b[1;33m(\u001b[0m\u001b[1;34m\"Energy\"\u001b[0m\u001b[1;33m)\u001b[0m\u001b[1;33m\u001b[0m\u001b[0m\n\u001b[0;32m     88\u001b[0m \u001b[0mplt\u001b[0m\u001b[1;33m.\u001b[0m\u001b[0mxlabel\u001b[0m\u001b[1;33m(\u001b[0m\u001b[1;34m\"Time (s)\"\u001b[0m\u001b[1;33m)\u001b[0m\u001b[1;33m\u001b[0m\u001b[0m\n",
      "\u001b[1;32md:\\Anaconda3\\envs\\dialect\\lib\\site-packages\\matplotlib\\pyplot.py\u001b[0m in \u001b[0;36mplot\u001b[1;34m(scalex, scaley, data, *args, **kwargs)\u001b[0m\n\u001b[0;32m   2767\u001b[0m     return gca().plot(\n\u001b[0;32m   2768\u001b[0m         \u001b[1;33m*\u001b[0m\u001b[0margs\u001b[0m\u001b[1;33m,\u001b[0m \u001b[0mscalex\u001b[0m\u001b[1;33m=\u001b[0m\u001b[0mscalex\u001b[0m\u001b[1;33m,\u001b[0m \u001b[0mscaley\u001b[0m\u001b[1;33m=\u001b[0m\u001b[0mscaley\u001b[0m\u001b[1;33m,\u001b[0m\u001b[1;33m\u001b[0m\u001b[0m\n\u001b[1;32m-> 2769\u001b[1;33m         **({\"data\": data} if data is not None else {}), **kwargs)\n\u001b[0m\u001b[0;32m   2770\u001b[0m \u001b[1;33m\u001b[0m\u001b[0m\n\u001b[0;32m   2771\u001b[0m \u001b[1;33m\u001b[0m\u001b[0m\n",
      "\u001b[1;32md:\\Anaconda3\\envs\\dialect\\lib\\site-packages\\matplotlib\\axes\\_axes.py\u001b[0m in \u001b[0;36mplot\u001b[1;34m(self, scalex, scaley, data, *args, **kwargs)\u001b[0m\n\u001b[0;32m   1633\u001b[0m         \"\"\"\n\u001b[0;32m   1634\u001b[0m         \u001b[0mkwargs\u001b[0m \u001b[1;33m=\u001b[0m \u001b[0mcbook\u001b[0m\u001b[1;33m.\u001b[0m\u001b[0mnormalize_kwargs\u001b[0m\u001b[1;33m(\u001b[0m\u001b[0mkwargs\u001b[0m\u001b[1;33m,\u001b[0m \u001b[0mmlines\u001b[0m\u001b[1;33m.\u001b[0m\u001b[0mLine2D\u001b[0m\u001b[1;33m)\u001b[0m\u001b[1;33m\u001b[0m\u001b[0m\n\u001b[1;32m-> 1635\u001b[1;33m         \u001b[0mlines\u001b[0m \u001b[1;33m=\u001b[0m \u001b[1;33m[\u001b[0m\u001b[1;33m*\u001b[0m\u001b[0mself\u001b[0m\u001b[1;33m.\u001b[0m\u001b[0m_get_lines\u001b[0m\u001b[1;33m(\u001b[0m\u001b[1;33m*\u001b[0m\u001b[0margs\u001b[0m\u001b[1;33m,\u001b[0m \u001b[0mdata\u001b[0m\u001b[1;33m=\u001b[0m\u001b[0mdata\u001b[0m\u001b[1;33m,\u001b[0m \u001b[1;33m**\u001b[0m\u001b[0mkwargs\u001b[0m\u001b[1;33m)\u001b[0m\u001b[1;33m]\u001b[0m\u001b[1;33m\u001b[0m\u001b[0m\n\u001b[0m\u001b[0;32m   1636\u001b[0m         \u001b[1;32mfor\u001b[0m \u001b[0mline\u001b[0m \u001b[1;32min\u001b[0m \u001b[0mlines\u001b[0m\u001b[1;33m:\u001b[0m\u001b[1;33m\u001b[0m\u001b[0m\n\u001b[0;32m   1637\u001b[0m             \u001b[0mself\u001b[0m\u001b[1;33m.\u001b[0m\u001b[0madd_line\u001b[0m\u001b[1;33m(\u001b[0m\u001b[0mline\u001b[0m\u001b[1;33m)\u001b[0m\u001b[1;33m\u001b[0m\u001b[0m\n",
      "\u001b[1;32md:\\Anaconda3\\envs\\dialect\\lib\\site-packages\\matplotlib\\axes\\_base.py\u001b[0m in \u001b[0;36m__call__\u001b[1;34m(self, data, *args, **kwargs)\u001b[0m\n\u001b[0;32m    310\u001b[0m                 \u001b[0mthis\u001b[0m \u001b[1;33m+=\u001b[0m \u001b[0margs\u001b[0m\u001b[1;33m[\u001b[0m\u001b[1;36m0\u001b[0m\u001b[1;33m]\u001b[0m\u001b[1;33m,\u001b[0m\u001b[1;33m\u001b[0m\u001b[0m\n\u001b[0;32m    311\u001b[0m                 \u001b[0margs\u001b[0m \u001b[1;33m=\u001b[0m \u001b[0margs\u001b[0m\u001b[1;33m[\u001b[0m\u001b[1;36m1\u001b[0m\u001b[1;33m:\u001b[0m\u001b[1;33m]\u001b[0m\u001b[1;33m\u001b[0m\u001b[0m\n\u001b[1;32m--> 312\u001b[1;33m             \u001b[1;32myield\u001b[0m \u001b[1;32mfrom\u001b[0m \u001b[0mself\u001b[0m\u001b[1;33m.\u001b[0m\u001b[0m_plot_args\u001b[0m\u001b[1;33m(\u001b[0m\u001b[0mthis\u001b[0m\u001b[1;33m,\u001b[0m \u001b[0mkwargs\u001b[0m\u001b[1;33m)\u001b[0m\u001b[1;33m\u001b[0m\u001b[0m\n\u001b[0m\u001b[0;32m    313\u001b[0m \u001b[1;33m\u001b[0m\u001b[0m\n\u001b[0;32m    314\u001b[0m     \u001b[1;32mdef\u001b[0m \u001b[0mget_next_color\u001b[0m\u001b[1;33m(\u001b[0m\u001b[0mself\u001b[0m\u001b[1;33m)\u001b[0m\u001b[1;33m:\u001b[0m\u001b[1;33m\u001b[0m\u001b[0m\n",
      "\u001b[1;32md:\\Anaconda3\\envs\\dialect\\lib\\site-packages\\matplotlib\\axes\\_base.py\u001b[0m in \u001b[0;36m_plot_args\u001b[1;34m(self, tup, kwargs, return_kwargs)\u001b[0m\n\u001b[0;32m    496\u001b[0m \u001b[1;33m\u001b[0m\u001b[0m\n\u001b[0;32m    497\u001b[0m         \u001b[1;32mif\u001b[0m \u001b[0mx\u001b[0m\u001b[1;33m.\u001b[0m\u001b[0mshape\u001b[0m\u001b[1;33m[\u001b[0m\u001b[1;36m0\u001b[0m\u001b[1;33m]\u001b[0m \u001b[1;33m!=\u001b[0m \u001b[0my\u001b[0m\u001b[1;33m.\u001b[0m\u001b[0mshape\u001b[0m\u001b[1;33m[\u001b[0m\u001b[1;36m0\u001b[0m\u001b[1;33m]\u001b[0m\u001b[1;33m:\u001b[0m\u001b[1;33m\u001b[0m\u001b[0m\n\u001b[1;32m--> 498\u001b[1;33m             raise ValueError(f\"x and y must have same first dimension, but \"\n\u001b[0m\u001b[0;32m    499\u001b[0m                              f\"have shapes {x.shape} and {y.shape}\")\n\u001b[0;32m    500\u001b[0m         \u001b[1;32mif\u001b[0m \u001b[0mx\u001b[0m\u001b[1;33m.\u001b[0m\u001b[0mndim\u001b[0m \u001b[1;33m>\u001b[0m \u001b[1;36m2\u001b[0m \u001b[1;32mor\u001b[0m \u001b[0my\u001b[0m\u001b[1;33m.\u001b[0m\u001b[0mndim\u001b[0m \u001b[1;33m>\u001b[0m \u001b[1;36m2\u001b[0m\u001b[1;33m:\u001b[0m\u001b[1;33m\u001b[0m\u001b[0m\n",
      "\u001b[1;31mValueError\u001b[0m: x and y must have same first dimension, but have shapes (338048,) and (2641,)"
     ]
    },
    {
     "data": {
      "image/png": "[encoded data removed]",
      "text/plain": [
       "<Figure size 640x480 with 2 Axes>"
      ]
     },
     "metadata": {},
     "output_type": "display_data"
    }
   ],
   "source": [
    "# 读取wav文件\n",
    "f = wave.open(\"source.wav\", \"rb\")\n",
    "# 获取参数\n",
    "params = f.getparams()\n",
    "nchannels, sampwidth, framerate, nframes = params[:4]\n",
    "# 读取波形数据\n",
    "str_data = f.readframes(nframes)\n",
    "f.close()\n",
    "# 转换为数组\n",
    "wave_data = np.fromstring(str_data, dtype=np.short)\n",
    "wave_data.shape = -1, nchannels\n",
    "wave_data = wave_data.T\n"
   ]
  },
  {
   "cell_type": "code",
   "execution_count": null,
   "metadata": {},
   "outputs": [],
   "source": []
  },
  {
   "cell_type": "code",
   "execution_count": null,
   "metadata": {},
   "outputs": [],
   "source": [
    "\n",
    "# 分帧处理\n",
    "frame_size = 256 # 帧长256个采样点\n",
    "frame_shift = 128 # 帧移128个采样点\n",
    "wlen = len(wave_data[0]) # 信号总长度\n",
    "frame_num = int(np.ceil(wlen / frame_shift)) # 计算帧数\n",
    "\n",
    "# 补零操作，使得最后一帧也有足够的采样点\n",
    "pad_size = frame_size + (frame_num - 1) * frame_shift - wlen \n",
    "pad_signal = np.append(wave_data[0], np.zeros(pad_size))\n",
    "\n",
    "# 将信号转化为矩阵形式，每一行是一帧数据（长度为256）\n",
    "indices = np.tile(np.arange(0, frame_size), (frame_num, 1)) + \\\n",
    "          np.tile(np.arange(0, frame_num * frame_shift, frame_shift), (frame_size, 1)).T \n",
    "indices = np.array(indices, dtype=np.int32)\n",
    "frames = pad_signal[indices]\n",
    "\n",
    "# 计算每一帧的能量值（平方和）\n",
    "energy = np.sum(frames ** 2 , axis=1)\n",
    "\n",
    "# 计算每一帧的过零率（符号变化次数）\n",
    "signs = np.sign(frames) # 符号函数，正数返回+1，负数返回-1，0返回0\n",
    "diffs = signs[:, :-1] - signs[:, 1:] # 相邻两个采样点符号相减 \n",
    "zcrs= np.sum(abs(diffs) / 2 , axis=1) # 绝对值求和再除以2\n",
    "\n",
    "# 设置双门限进行端点检测（根据实际情况调整）\n",
    "energy_mean=np.sum(energy)/len(energy) # 能量均值 \n",
    "sum=0 \n",
    "lth=15*energy_mean/10.0 # 能量低门限 \n",
    "hth=lth*4.0 # 能量高门限 \n",
    "zcrs_mean=np.sum(zcrs)/len(zcrs) # 过零率均值 \n",
    "zcrs_low=3*zcrs_mean/4.0 # 过零率低门限 \n",
    "\n",
    "status=0;   # 初始状态为静音状态 \n",
    "count=0;    # 静音状态计数器初始化为0  \n",
    "silence=15;   # 静音状态至少持续15帧以上才能视为语音段结束 \n",
    "\n",
    "start=[];   # 记录每一段语音开始位置  \n",
    "end=[];     # 记录每一段语音结束位置  \n",
    "\n",
    "for i in range(len(energy)):\n",
    "    if status==0 or status==1:   # 状态为静音或者过渡状态时  \n",
    "        if energy[i]>hth:        # 如果此时能量超过高门限，则将当前状态置为语音\n",
    "            status=2;   # 将当前状态置为语音状态 \n",
    "            start.append(i);  # 记录语音开始位置  \n",
    "        elif energy[i]>lth:   # 如果能量超过低门限，将当前状态置为过渡状态 \n",
    "            status=1; \n",
    "        else:                 # 如果能量低于低门限，将当前状态置为静音状态 \n",
    "            status=0; \n",
    "    elif status==2:           # 状态为语音时  \n",
    "        if energy[i]<lth:     # 如果此时能量低于低门限，则将当前状态置为过渡状态 \n",
    "            status=1; \n",
    "            count=0;          # 过渡计数器清零  \n",
    "        else:                 # 否则维持语音状态不变  \n",
    "            status=2; \n",
    "    elif status==1:           # 状态为过渡时  \n",
    "        if energy[i]<lth:     # 如果此时能量低于低门限，则增加过渡计数器 \n",
    "            count+=1;         # 过渡计数器加一  \n",
    "            if count>silence:  # 如果过渡计数器超过静音阈值，则将当前状态置为静音，并记录语音结束位置  \n",
    "                status=0;\n",
    "                end.append(i);\n",
    "        else:                 # 否则重新将当前状态置为语音，并清空过渡计数器\n",
    "            status=2;\n",
    "            count=0;\n",
    "\n",
    "# 绘制波形图和能量图\n",
    "time = np.arange(0, wlen) / framerate\n",
    "time2 = np.arange(0, frame_num * frame_shift) / framerate\n",
    "\n",
    "plt.subplot(211)\n",
    "plt.plot(time, wave_data[0], \"black\")\n",
    "plt.ylabel(\"Amplitude\")\n",
    "plt.subplot(212)\n",
    "plt.plot(time2, energy, \"blue\")\n",
    "plt.ylabel(\"Energy\")\n",
    "plt.xlabel(\"Time (s)\")\n",
    "\n",
    "# 标记出语音段的位置\n",
    "for i in range(len(start)):\n",
    "    plt.vlines((start[i] * frame_shift) / framerate, -25000, 25000)\n",
    "    plt.vlines((end[i] * frame_shift) / framerate, -25000, 25000)\n",
    "\n",
    "plt.show()\n",
    "# 源: 与必应的对话， 2023/3/1\n",
    "# (1) 【语音识别】语音端点检测及Python实现_Luqiang_Shi的博客-CSDN博客_python语音端点检测. https://blog.csdn.net/Luqiang_Shi/article/details/91047080 访问时间 2023/3/1.\n",
    "# (2) 语音信号处理 | Python实现端点检测_白鸟无言的博客-CSDN博客_python端点检测. https://blog.csdn.net/qq_42688495/article/details/109333598 访问时间 2023/3/1.\n",
    "# (3) 用python实现语音端点检测 (Voice Activity Detection,VAD). https://blog.csdn.net/pk296256948/article/details/118853447 访问时间 2023/3/1."
   ]
  },
  {
   "cell_type": "code",
   "execution_count": 1,
   "metadata": {},
   "outputs": [
    {
     "data": {
      "text/plain": [
       "'d:\\\\Users\\\\GraduationDesign\\\\DialectClassification'"
      ]
     },
     "execution_count": 1,
     "metadata": {},
     "output_type": "execute_result"
    }
   ],
   "source": [
    "import os\n",
    "os.getcwd()"
   ]
  }
 ],
 "metadata": {
  "kernelspec": {
   "display_name": "dialect",
   "language": "python",
   "name": "python3"
  },
  "language_info": {
   "codemirror_mode": {
    "name": "ipython",
    "version": 3
   },
   "file_extension": ".py",
   "mimetype": "text/x-python",
   "name": "python",
   "nbconvert_exporter": "python",
   "pygments_lexer": "ipython3",
   "version": "3.7.0"
  },
  "orig_nbformat": 4,
  "vscode": {
   "interpreter": {
    "hash": "7d972a04ee18aefd3ce7e0be1db2b657fdd17aab007b8784cfa14884dd53ac62"
   }
  }
 },
 "nbformat": 4,
 "nbformat_minor": 2
}
